{
 "cells": [
  {
   "cell_type": "code",
   "execution_count": 36,
   "metadata": {
    "collapsed": true
   },
   "outputs": [],
   "source": [
    "import nltk\n",
    "from sklearn.feature_extraction.text import TfidfVectorizer\n",
    "from sklearn import svm\n",
    "from sklearn.metrics import classification_report\n",
    "from sklearn import metrics\n",
    "import numpy as np\n",
    "from nltk.sentiment.vader import SentimentIntensityAnalyzer\n",
    "\n",
    "base_path = '/Users/yannickpulver/assignment.3/src/'\n",
    "path_train_data = base_path + 'Amazon_Baby_train.txt'"
   ]
  },
  {
   "cell_type": "code",
   "execution_count": 37,
   "metadata": {},
   "outputs": [],
   "source": [
    "def load_data(path):\n",
    "    raw_file = open(path, 'rb')\n",
    "    raw_data = [line.replace('\\r\\n', '').split(' ; ') for line in raw_file]  #  iterate over lines\n",
    "    return raw_data"
   ]
  },
  {
   "cell_type": "code",
   "execution_count": 38,
   "metadata": {},
   "outputs": [],
   "source": [
    "#loading data + splitting in train / test-set\n",
    "data = load_data(path_train_data)\n",
    "size = int(len(data) * 0.8)\n",
    "train_data = data[:size]\n",
    "test_data = data[size:]"
   ]
  },
  {
   "cell_type": "code",
   "execution_count": 98,
   "metadata": {
    "collapsed": true
   },
   "outputs": [],
   "source": [
    "import csv\n",
    "import textwrap\n",
    "\n",
    "rows = []\n",
    "\n",
    "def getTedChunks():\n",
    "    data = []\n",
    "    with open(base_path + 'transcripts-cleaned.csv', 'rb') as csvfile:\n",
    "        next(csvfile)\n",
    "        thereader = csv.reader(csvfile, delimiter=',')\n",
    "        for row in thereader:\n",
    "            if row[0]:\n",
    "                chunksize = len(row[0]) / 4\n",
    "                chunked = textwrap.wrap(row[0], chunksize)\n",
    "                if len(chunked) == 5:\n",
    "                    rows.append(row[1])\n",
    "                    data.extend(chunked)\n",
    "    print len(rows)\n",
    "    return data\n"
   ]
  },
  {
   "cell_type": "code",
   "execution_count": 99,
   "metadata": {},
   "outputs": [
    {
     "name": "stdout",
     "output_type": "stream",
     "text": [
      "2340\n11700\n"
     ]
    }
   ],
   "source": [
    "data = getTedChunks()\n",
    "print len(data)"
   ]
  },
  {
   "cell_type": "code",
   "execution_count": 73,
   "metadata": {
    "collapsed": false
   },
   "outputs": [
    {
     "name": "stdout",
     "output_type": "stream",
     "text": [
      "Good morning. How are you?(Laughter)It's been great, hasn't it? I've been blown away by the whole thing. In fact, I'm leaving.(Laughter)There have been three themes running through the conference which are relevant to what I want to talk about. One is the extraordinary evidence of human creativity in all of the presentations that we've had and in all of the people here. Just the variety of it and the range of it. The second is that it's put us in a place where we have no idea what's going to happen, in terms of the future. No idea how this may play out.I have an interest in education. Actually, what I find is everybody has an interest in education. Don't you? I find this very interesting. If you're at a dinner party, and you say you work in education — Actually, you're not often at dinner parties, frankly.(Laughter)If you work in education, you're not asked.(Laughter)And you're never asked back, curiously. That's strange to me. But if you are, and you say to somebody, you know, they say, \"What do you do?\" and you say you work in education, you can see the blood run from their face. They're like, \"Oh my God,\" you know, \"Why me?\"(Laughter)\"My one night out all week.\"(Laughter)But if you ask about their education, they pin you to the wall. Because it's one of those things that goes deep with people, am I right? Like religion, and money and other things. So I have a big interest in education, and I think we all do. We have a huge vested interest in it, partly because it's education that's meant to take us into this future that we can't grasp. If you think of it, children starting school this year will be retiring in 2065. Nobody has a clue, despite all the expertise that's been on parade for the past four days, what the world will look like in five years' time. And yet we're meant to be educating them for it. So the unpredictability, I think, is extraordinary.And the third part of this is that we've all agreed, nonetheless, on the really extraordinary capacities that children have — their capacities for innovation. I mean, Sirena last night was a marvel, wasn't she? Just seeing what she could do. And she's exceptional, but I think she's not, so to speak, exceptional in the whole of childhood. What you have there is a person of extraordinary dedication who found a talent. And my contention is, all kids have tremendous talents. And we squander them, pretty ruthlessly.So I want to talk about education and I want to talk about creativity. My contention is that creativity now is as important in education as literacy, and we should treat it with the same status.(Applause) Thank you.(Applause)That was it, by the way. Thank you very much.(Laughter)So, 15 minutes left.(Laughter)Well, I was born... no.(Laughter)I heard a great story recently — I love telling it — of a little girl who was in a drawing lesson. She was six, and she was at the back, drawing, and the teacher said this girl hardly ever paid attention, and in this drawing lesson, she did. The teacher was fascinated. She went over to her, and she said, \"What are you drawing?\" And the girl said, \"I'm drawing a picture of God.\" And the teacher said, \"But nobody knows what God looks like.\" And the girl said, \"They will, in a minute.\"(Laughter)When my son was four in England — Actually, he was four everywhere, to be honest.(Laughter)If we're being strict about it, wherever he went, he was four that year. He was in the Nativity play. Do you remember the story?(Laughter)No, it was big, it was a big story. Mel Gibson did the sequel, you may have seen it.(Laughter)\"Nativity II.\" But James got the part of Joseph, which we were thrilled about. We considered this to be one of the lead parts. We had the place crammed full of agents in T-shirts: \"James Robinson IS Joseph!\" (Laughter) He didn't have to speak, but you know the bit where the three kings come in? They come in bearing gifts, gold, frankincense and myrrh. This really happened. We were sitting there and I think they just went out of sequence, because we talked to the little boy afterward and we said, \"You OK with that?\" And he said, \"Yeah, why? Was that wrong?\" They just switched. The three boys came in, four-year-olds with tea towels on their heads, and they put these boxes down, and the first boy said, \"I bring you gold.\" And the second boy said, \"I bring you myrrh.\" And the\n"
     ]
    }
   ],
   "source": [
    "#print data[0]"
   ]
  },
  {
   "cell_type": "code",
   "execution_count": 39,
   "metadata": {},
   "outputs": [],
   "source": [
    "\n",
    "# Defining rating arrays\n",
    "train_rating = [float(t[0]) for t in train_data]\n",
    "test_rating = [float(t[0]) for t in test_data]\n",
    "    \n",
    "# Building and using vectorizer\n",
    "vectorizer = TfidfVectorizer(min_df=10,\n",
    "                                 max_df=0.8,\n",
    "                                 sublinear_tf=True,\n",
    "                                 use_idf=True,\n",
    "                                 ngram_range=(1, 3))\n",
    "    \n",
    "train_vectors = vectorizer.fit_transform([t[2] for t in train_data])\n"
   ]
  },
  {
   "cell_type": "code",
   "execution_count": 92,
   "metadata": {},
   "outputs": [
    {
     "name": "stdout",
     "output_type": "stream",
     "text": [
      "Task 1\n------------------\n"
     ]
    }
   ],
   "source": [
    "test_vectors = vectorizer.transform(data)\n",
    "    \n",
    "# Classifing data and predict results\n",
    "classifier = svm.LinearSVC(C=0.35, tol=0.3)\n",
    "    \n",
    "classifier.fit(train_vectors, train_rating)\n",
    "prediction = classifier.predict(test_vectors)\n",
    "    \n",
    "print \"Task 1\"\n",
    "print(\"------------------\")\n",
    "# print prediction\n",
    "# print_accuracy_cf(test_rating, prediction)"
   ]
  },
  {
   "cell_type": "code",
   "execution_count": 94,
   "metadata": {},
   "outputs": [],
   "source": [
    "def chunks(l, n):\n",
    "    \"\"\"Yield successive n-sized chunks from l.\"\"\"\n",
    "    for i in xrange(0, len(l), n):\n",
    "        yield l[i:i + n]"
   ]
  },
  {
   "cell_type": "code",
   "execution_count": 107,
   "metadata": {},
   "outputs": [
    {
     "name": "stdout",
     "output_type": "stream",
     "text": [
      "70\n\"https://www.ted.com/talks/karoliina_korppoo_how_a_video_game_might_help_us_build_better_cities\n\"\n"
     ]
    }
   ],
   "source": [
    "print len(rows[0])\n",
    "print rows[i]"
   ]
  },
  {
   "cell_type": "code",
   "execution_count": 109,
   "metadata": {
    "collapsed": false
   },
   "outputs": [
    {
     "name": "stdout",
     "output_type": "stream",
     "text": [
      "['5.0' '5.0' '5.0' '5.0' '2.0'\n '\"https://www.ted.com/talks/ken_robinson_says_schools_kill_creativity\\n\"']\n"
     ]
    }
   ],
   "source": [
    "chunk = lambda ulist, step:  map(lambda i: ulist[i:i+step],  xrange(0, len(ulist), step))\n",
    "chunks = chunk(prediction, 5)\n",
    "\n",
    "for i in range(len(chunks)):\n",
    "    chunks[i] = np.append(chunks[i], rows[i])\n",
    "\n",
    "\n",
    "print chunks"
   ]
  },
  {
   "cell_type": "code",
   "execution_count": 97,
   "metadata": {},
   "outputs": [
    {
     "name": "stdout",
     "output_type": "stream",
     "text": [
      "2340\n"
     ]
    }
   ],
   "source": [
    "print len(chunks)"
   ]
  },
  {
   "cell_type": "code",
   "execution_count": 110,
   "metadata": {},
   "outputs": [],
   "source": [
    "\n",
    "myFile = open(base_path + 'transcript_sentiment_values.csv', 'w')\n",
    "with myFile:\n",
    "    writer = csv.writer(myFile)\n",
    "    writer.writerows(chunks)"
   ]
  }
 ],
 "metadata": {
  "kernelspec": {
   "display_name": "Python 2",
   "language": "python",
   "name": "python2"
  },
  "language_info": {
   "codemirror_mode": {
    "name": "ipython",
    "version": 2
   },
   "file_extension": ".py",
   "mimetype": "text/x-python",
   "name": "python",
   "nbconvert_exporter": "python",
   "pygments_lexer": "ipython2",
   "version": "2.7.6"
  }
 },
 "nbformat": 4,
 "nbformat_minor": 0
}
